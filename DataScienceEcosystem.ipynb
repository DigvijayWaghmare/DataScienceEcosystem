{
 "cells": [
  {
   "cell_type": "markdown",
   "id": "fef5fb90-f8c1-482c-8fbc-eaba1524a392",
   "metadata": {},
   "source": [
    "# Data Science Tools and Ecosystems"
   ]
  },
  {
   "cell_type": "markdown",
   "id": "073b815e-21f8-40d9-8401-caac71b07bde",
   "metadata": {},
   "source": [
    "In this notebook, Data Science Tools and Ecosystem are summarized."
   ]
  },
  {
   "cell_type": "markdown",
   "id": "8d723458-5f70-4056-8236-4df3489ca756",
   "metadata": {},
   "source": [
    "**Objectives**\n",
    "* To learn the open source tools for data science.\n",
    "* To learn the commercial tools for data science.\n",
    "* To learn the languages that are used in data science.\n",
    "* To learn the libraries that are used in data science.\n",
    "* To learn the use of GitHub."
   ]
  },
  {
   "cell_type": "markdown",
   "id": "2e972eef-0706-4f01-abd7-9f100fc3e651",
   "metadata": {},
   "source": [
    "Some of the popular languages that Data Scientists use are:"
   ]
  },
  {
   "cell_type": "markdown",
   "id": "e5cfeb37-c13d-40cb-a6fd-9299dbda6a1d",
   "metadata": {},
   "source": [
    "1. Python\n",
    "2. R\n",
    "3. C++\n",
    "4. Java"
   ]
  },
  {
   "cell_type": "markdown",
   "id": "7708073b-e615-4410-861f-2b630672b519",
   "metadata": {},
   "source": [
    "Some of the commonly used libraries used by Data Scientists include:"
   ]
  },
  {
   "cell_type": "markdown",
   "id": "efee0bb5-1c11-43dd-963b-47895716287a",
   "metadata": {
    "tags": []
   },
   "source": [
    "1. Pandas\n",
    "2. NumPy\n",
    "3. Matplotlib\n",
    "4. TensorFlow"
   ]
  },
  {
   "cell_type": "markdown",
   "id": "fc75107e-317a-41d0-8bca-71203f522b61",
   "metadata": {
    "tags": []
   },
   "source": [
    "| Data Science Tools |\n",
    "| ------------------ |\n",
    "| Jupyter Notebook |\n",
    "| RStudio |\n",
    "| Spyder |"
   ]
  },
  {
   "cell_type": "markdown",
   "id": "c6fe9de1-e6df-4d89-9f59-ac70adde8f78",
   "metadata": {},
   "source": [
    "### Below are a few examples of evaluating arithmetic expressions in Python."
   ]
  },
  {
   "cell_type": "code",
   "execution_count": 3,
   "id": "4f770ccc-f7b4-4a6f-9c40-977457de03cb",
   "metadata": {
    "tags": []
   },
   "outputs": [],
   "source": [
    "#This a simple arithmetic expression to mutiply then add integers."
   ]
  },
  {
   "cell_type": "code",
   "execution_count": 4,
   "id": "e8f4aaea-95bf-4c93-8fda-93a592dafa34",
   "metadata": {
    "tags": []
   },
   "outputs": [
    {
     "data": {
      "text/plain": [
       "17"
      ]
     },
     "execution_count": 4,
     "metadata": {},
     "output_type": "execute_result"
    }
   ],
   "source": [
    "(3*4)+5"
   ]
  },
  {
   "cell_type": "code",
   "execution_count": 5,
   "id": "21692e1b-5660-4325-8133-4ee7c54af934",
   "metadata": {
    "tags": []
   },
   "outputs": [],
   "source": [
    "#This will convert 200 minutes to hours by dividing by 60."
   ]
  },
  {
   "cell_type": "code",
   "execution_count": 6,
   "id": "12782252-93e0-4c34-a775-4002fbff1933",
   "metadata": {
    "tags": []
   },
   "outputs": [
    {
     "name": "stdout",
     "output_type": "stream",
     "text": [
      "3.3333333333333335\n"
     ]
    }
   ],
   "source": [
    "minutes=200\n",
    "hours=minutes/60\n",
    "print(hours)"
   ]
  },
  {
   "cell_type": "markdown",
   "id": "4ceffd06-f803-4acd-a04a-e4710f27d856",
   "metadata": {
    "tags": []
   },
   "source": [
    "## Author\n",
    "Digvijay D. Waghmare"
   ]
  },
  {
   "cell_type": "code",
   "execution_count": null,
   "id": "44cffaee-f20a-4f4b-9cd6-b7bb2580f877",
   "metadata": {},
   "outputs": [],
   "source": []
  }
 ],
 "metadata": {
  "kernelspec": {
   "display_name": "Python",
   "language": "python",
   "name": "conda-env-python-py"
  },
  "language_info": {
   "codemirror_mode": {
    "name": "ipython",
    "version": 3
   },
   "file_extension": ".py",
   "mimetype": "text/x-python",
   "name": "python",
   "nbconvert_exporter": "python",
   "pygments_lexer": "ipython3",
   "version": "3.7.12"
  }
 },
 "nbformat": 4,
 "nbformat_minor": 5
}
